{
 "cells": [
  {
   "cell_type": "markdown",
   "id": "d7d16781-025f-43ba-aa6b-d83492784e03",
   "metadata": {},
   "source": [
    "# Data Science Tools and Ecosystem\n"
   ]
  },
  {
   "cell_type": "markdown",
   "id": "c6b9abcd-bc21-46be-a299-1997c2dc9c3f",
   "metadata": {},
   "source": [
    "In this notebook, Data Science Tools and Ecosystem are summarized.\n"
   ]
  },
  {
   "cell_type": "markdown",
   "id": "e0e42e6d-8d41-4e83-a0eb-320e168d692d",
   "metadata": {},
   "source": [
    "Some of the popular languages that Data Scientists use are:\n",
    "1. Python\n",
    "2. R\n",
    "3. SQL\n",
    "\n"
   ]
  },
  {
   "cell_type": "markdown",
   "id": "ad9ac4c0-4ecf-4e88-bf0c-e2ff475f33b6",
   "metadata": {},
   "source": [
    "Some of the commonly used libraries used by Data Scientists include:\n",
    "1. Pandas\n",
    "2. NumPy\n",
    "3. Matplotlib\n"
   ]
  },
  {
   "cell_type": "markdown",
   "id": "132a22d5-8c2f-4deb-b8e2-637cbbc220a3",
   "metadata": {},
   "source": [
    "| Data Science Tools |\n",
    "|---------------------|\n",
    "| Jupyter Notebook    |\n",
    "| RStudio             |\n",
    "| Apache Zeppelin     |\n"
   ]
  },
  {
   "cell_type": "code",
   "execution_count": 1,
   "id": "8ae08fe6-bede-49eb-967b-dfa55ca65643",
   "metadata": {
    "tags": []
   },
   "outputs": [],
   "source": [
    "### Below are a few examples of evaluating arithmetic expressions in Python.\n"
   ]
  },
  {
   "cell_type": "code",
   "execution_count": 3,
   "id": "a35fba43-cec2-4471-99cf-c56a4cf801a4",
   "metadata": {
    "tags": []
   },
   "outputs": [
    {
     "data": {
      "text/plain": [
       "17"
      ]
     },
     "execution_count": 3,
     "metadata": {},
     "output_type": "execute_result"
    }
   ],
   "source": [
    "# This a simple arithmetic expression to multiply then add integers\n",
    "(3*4)+5\n"
   ]
  },
  {
   "cell_type": "code",
   "execution_count": 4,
   "id": "63546448-116f-4b2b-bb40-f85cb7b08afa",
   "metadata": {
    "tags": []
   },
   "outputs": [
    {
     "data": {
      "text/plain": [
       "3.3333333333333335"
      ]
     },
     "execution_count": 4,
     "metadata": {},
     "output_type": "execute_result"
    }
   ],
   "source": [
    "# This will convert 200 minutes to hours by dividing by 60\n",
    "200 / 60\n"
   ]
  },
  {
   "cell_type": "markdown",
   "id": "b448d17e-c228-4367-8f58-03b3fed19736",
   "metadata": {
    "tags": []
   },
   "source": [
    "**Objectives:**\n",
    "- List popular languages for Data Science\n",
    "- List commonly used libraries for Data Science\n",
    "- Create markdown cells in Jupyter Notebook\n",
    "- Evaluate arithmetic expressions in Python\n",
    "- Create and share a Jupyter Notebook on GitHub\n"
   ]
  },
  {
   "cell_type": "markdown",
   "id": "0ed25b09-6cb4-47c4-bcf6-cc8728f919ce",
   "metadata": {
    "tags": []
   },
   "source": [
    "## Author\n",
    "Ayush Jain\n"
   ]
  },
  {
   "cell_type": "code",
   "execution_count": null,
   "id": "beac0267-b79a-488b-900a-4f2904bec3c5",
   "metadata": {},
   "outputs": [],
   "source": []
  }
 ],
 "metadata": {
  "kernelspec": {
   "display_name": "Python",
   "language": "python",
   "name": "conda-env-python-py"
  },
  "language_info": {
   "codemirror_mode": {
    "name": "ipython",
    "version": 3
   },
   "file_extension": ".py",
   "mimetype": "text/x-python",
   "name": "python",
   "nbconvert_exporter": "python",
   "pygments_lexer": "ipython3",
   "version": "3.7.12"
  }
 },
 "nbformat": 4,
 "nbformat_minor": 5
}
